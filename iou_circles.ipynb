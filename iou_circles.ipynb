{
 "cells": [
  {
   "cell_type": "code",
   "execution_count": 1,
   "id": "6525ede3",
   "metadata": {},
   "outputs": [],
   "source": [
    "import numpy as np\n",
    "import matplotlib.pyplot as plt"
   ]
  },
  {
   "cell_type": "code",
   "execution_count": 14,
   "id": "4665cf7d",
   "metadata": {},
   "outputs": [],
   "source": [
    "def plot_circle(center1, center2, R, title=''):\n",
    "    circle1 = plt.Circle(center1, R, color='r')\n",
    "    circle2 = plt.Circle(center2, R, color='b')\n",
    "    fig, ax = plt.subplots()\n",
    "    \n",
    "    XY = [np.max(h) for h in zip(center1,center2)]\n",
    "    x = XY[0]\n",
    "    y = XY[1]\n",
    "    plt.xlim(-(x+2*R),x+2*R)\n",
    "    plt.ylim(-(y+2*R),y+2*R)\n",
    "\n",
    "    plt.grid(linestyle='--')\n",
    "\n",
    "    ax.set_aspect(1)\n",
    "\n",
    "    ax.add_artist(circle1)\n",
    "    ax.add_artist(circle2)\n",
    "\n",
    "    plt.title(title, fontsize=8)\n",
    "\n",
    "\n",
    "    plt.show()\n"
   ]
  },
  {
   "cell_type": "code",
   "execution_count": 19,
   "id": "d9c778ee",
   "metadata": {},
   "outputs": [
    {
     "data": {
      "image/png": "[encoded data removed]",
      "text/plain": [
       "<Figure size 432x288 with 1 Axes>"
      ]
     },
     "metadata": {
      "needs_background": "light"
     },
     "output_type": "display_data"
    }
   ],
   "source": [
    "center1 = np.array([0,0])\n",
    "center2 = np.array([0,1])\n",
    "\n",
    "plot_circle(center1, center2, R=10)"
   ]
  },
  {
   "cell_type": "code",
   "execution_count": 10,
   "id": "65d82793",
   "metadata": {},
   "outputs": [],
   "source": [
    "def area_intersection(R, d):\n",
    "    \"\"\"\n",
    "    R = radius of the 2 circles\n",
    "    d = distance between the center of the 2 circles\n",
    "    \n",
    "    \"\"\"\n",
    "    A = (2*R**2)*np.arccos(d/(2*R))\n",
    "    B = (R**2)-((0.5*d)**2)\n",
    "    return A-d*np.sqrt(B)\n",
    "\n",
    "def iou(center1, center2, R):\n",
    "        d = np.linalg.norm(center1 - center2)\n",
    "        if d >= 2*R :\n",
    "            intersection = 0\n",
    "        else :\n",
    "            intersection = area_intersection(R,d)\n",
    "        union = 2*np.pi*R**2 - intersection\n",
    "        iou = intersection / union\n",
    "        return iou"
   ]
  },
  {
   "cell_type": "code",
   "execution_count": 11,
   "id": "07748ece",
   "metadata": {},
   "outputs": [
    {
     "data": {
      "text/plain": [
       "2.152109225029709"
      ]
     },
     "execution_count": 11,
     "metadata": {},
     "output_type": "execute_result"
    }
   ],
   "source": [
    "area_intersection(1,0.5)"
   ]
  },
  {
   "cell_type": "code",
   "execution_count": 20,
   "id": "d687fb6f",
   "metadata": {},
   "outputs": [],
   "source": [
    "def plot_with_iou(center1, center2, R):\n",
    "    \n",
    "    def iou(center1, center2, R):\n",
    "        d = np.linalg.norm(center1 - center2)\n",
    "        if d > 2*R :\n",
    "            intersection = 0\n",
    "        else :\n",
    "            intersection = area_intersection(R,d)\n",
    "        union = 2*np.pi*R**2 - intersection\n",
    "        iou = intersection / union\n",
    "        return iou\n",
    "    iou = iou(center1, center2, R)\n",
    "    plot_circle(center1, center2, R, title='IOU = '+str(iou))"
   ]
  },
  {
   "cell_type": "code",
   "execution_count": 22,
   "id": "ea821d88",
   "metadata": {},
   "outputs": [
    {
     "data": {
      "image/png": "[encoded data removed]",
      "text/plain": [
       "<Figure size 432x288 with 1 Axes>"
      ]
     },
     "metadata": {
      "needs_background": "light"
     },
     "output_type": "display_data"
    }
   ],
   "source": [
    "#plot_with_iou(np.array([0,11]),np.array([0,10]),1)\n",
    "plot_with_iou(center1, center2, 1)"
   ]
  }
 ],
 "metadata": {
  "kernelspec": {
   "display_name": "Python 3 (ipykernel)",
   "language": "python",
   "name": "python3"
  },
  "language_info": {
   "codemirror_mode": {
    "name": "ipython",
    "version": 3
   },
   "file_extension": ".py",
   "mimetype": "text/x-python",
   "name": "python",
   "nbconvert_exporter": "python",
   "pygments_lexer": "ipython3",
   "version": "3.7.6"
  }
 },
 "nbformat": 4,
 "nbformat_minor": 5
}
