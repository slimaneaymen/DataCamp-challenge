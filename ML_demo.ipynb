{
 "cells": [
  {
   "cell_type": "code",
   "execution_count": 1,
   "metadata": {},
   "outputs": [],
   "source": [
    "import pandas as pd\n",
    "import numpy as np\n",
    "from data_processing import get_df_data\n",
    "import matplotlib.pyplot as plt"
   ]
  },
  {
   "cell_type": "code",
   "execution_count": 2,
   "metadata": {},
   "outputs": [],
   "source": [
    "var_names = ['play_djoko', 'posx_djoko', 'posy_djoko', 'posx_opponent',\n",
    "       'posy_opponent', 'targetx_ball', 'targety_ball', 'serve_djoko',\n",
    "       'set_djoko', 'set_opponent', 'games_djoko', 'games_opponent',\n",
    "       'duration', 'time', 'forehand']"
   ]
  },
  {
   "cell_type": "code",
   "execution_count": 3,
   "metadata": {},
   "outputs": [],
   "source": [
    "var_names_input = ['posx_djoko', 'posy_djoko', 'posx_opponent',\n",
    "       'posy_opponent', 'targetx_ball', 'targety_ball',\n",
    "       'set_djoko', 'set_opponent', 'games_djoko', 'games_opponent',\n",
    "       'duration']"
   ]
  },
  {
   "cell_type": "code",
   "execution_count": 4,
   "metadata": {},
   "outputs": [],
   "source": [
    "var_names_output = ['targetx_ball', 'targety_ball']"
   ]
  },
  {
   "cell_type": "code",
   "execution_count": 5,
   "metadata": {},
   "outputs": [],
   "source": [
    "service_row = {k:0 for k in var_names} \n",
    "service_row_df = pd.DataFrame(service_row, index=[0])"
   ]
  },
  {
   "cell_type": "code",
   "execution_count": 6,
   "metadata": {},
   "outputs": [],
   "source": [
    "data = get_df_data(service_row=service_row_df)"
   ]
  },
  {
   "cell_type": "code",
   "execution_count": 7,
   "metadata": {},
   "outputs": [
    {
     "data": {
      "text/html": [
       "<div>\n",
       "<style scoped>\n",
       "    .dataframe tbody tr th:only-of-type {\n",
       "        vertical-align: middle;\n",
       "    }\n",
       "\n",
       "    .dataframe tbody tr th {\n",
       "        vertical-align: top;\n",
       "    }\n",
       "\n",
       "    .dataframe thead th {\n",
       "        text-align: right;\n",
       "    }\n",
       "</style>\n",
       "<table border=\"1\" class=\"dataframe\">\n",
       "  <thead>\n",
       "    <tr style=\"text-align: right;\">\n",
       "      <th></th>\n",
       "      <th>play_djoko</th>\n",
       "      <th>posx_djoko</th>\n",
       "      <th>posy_djoko</th>\n",
       "      <th>posx_opponent</th>\n",
       "      <th>posy_opponent</th>\n",
       "      <th>targetx_ball</th>\n",
       "      <th>targety_ball</th>\n",
       "      <th>serve_djoko</th>\n",
       "      <th>set_djoko</th>\n",
       "      <th>set_opponent</th>\n",
       "      <th>games_djoko</th>\n",
       "      <th>games_opponent</th>\n",
       "      <th>duration</th>\n",
       "      <th>time</th>\n",
       "      <th>forehand</th>\n",
       "      <th>reference_video</th>\n",
       "      <th>start_point</th>\n",
       "    </tr>\n",
       "  </thead>\n",
       "  <tbody>\n",
       "    <tr>\n",
       "      <th>0</th>\n",
       "      <td>0</td>\n",
       "      <td>0.00</td>\n",
       "      <td>0.00</td>\n",
       "      <td>0.00</td>\n",
       "      <td>0.00</td>\n",
       "      <td>0.00</td>\n",
       "      <td>0.00</td>\n",
       "      <td>0.0</td>\n",
       "      <td>0.0</td>\n",
       "      <td>0.0</td>\n",
       "      <td>0.0</td>\n",
       "      <td>0.0</td>\n",
       "      <td>0.0</td>\n",
       "      <td>0.0</td>\n",
       "      <td>0.0</td>\n",
       "      <td>NaN</td>\n",
       "      <td>NaN</td>\n",
       "    </tr>\n",
       "    <tr>\n",
       "      <th>1</th>\n",
       "      <td>1</td>\n",
       "      <td>1.09</td>\n",
       "      <td>11.67</td>\n",
       "      <td>4.55</td>\n",
       "      <td>13.25</td>\n",
       "      <td>2.90</td>\n",
       "      <td>5.16</td>\n",
       "      <td>1.0</td>\n",
       "      <td>0.0</td>\n",
       "      <td>0.0</td>\n",
       "      <td>6.0</td>\n",
       "      <td>6.0</td>\n",
       "      <td>1.0</td>\n",
       "      <td>67.0</td>\n",
       "      <td>1.0</td>\n",
       "      <td>https://www.youtube.com/watch?v=OkL5s59Zo6Q</td>\n",
       "      <td>0.08</td>\n",
       "    </tr>\n",
       "    <tr>\n",
       "      <th>2</th>\n",
       "      <td>0</td>\n",
       "      <td>1.09</td>\n",
       "      <td>11.67</td>\n",
       "      <td>3.91</td>\n",
       "      <td>13.07</td>\n",
       "      <td>0.99</td>\n",
       "      <td>9.05</td>\n",
       "      <td>1.0</td>\n",
       "      <td>0.0</td>\n",
       "      <td>0.0</td>\n",
       "      <td>6.0</td>\n",
       "      <td>6.0</td>\n",
       "      <td>2.0</td>\n",
       "      <td>67.0</td>\n",
       "      <td>0.0</td>\n",
       "      <td>NaN</td>\n",
       "      <td>NaN</td>\n",
       "    </tr>\n",
       "    <tr>\n",
       "      <th>3</th>\n",
       "      <td>1</td>\n",
       "      <td>0.83</td>\n",
       "      <td>12.50</td>\n",
       "      <td>3.08</td>\n",
       "      <td>13.02</td>\n",
       "      <td>2.69</td>\n",
       "      <td>5.89</td>\n",
       "      <td>1.0</td>\n",
       "      <td>0.0</td>\n",
       "      <td>0.0</td>\n",
       "      <td>6.0</td>\n",
       "      <td>6.0</td>\n",
       "      <td>3.0</td>\n",
       "      <td>67.0</td>\n",
       "      <td>1.0</td>\n",
       "      <td>NaN</td>\n",
       "      <td>NaN</td>\n",
       "    </tr>\n",
       "    <tr>\n",
       "      <th>4</th>\n",
       "      <td>0</td>\n",
       "      <td>0.94</td>\n",
       "      <td>12.73</td>\n",
       "      <td>4.02</td>\n",
       "      <td>12.79</td>\n",
       "      <td>0.94</td>\n",
       "      <td>6.75</td>\n",
       "      <td>1.0</td>\n",
       "      <td>0.0</td>\n",
       "      <td>0.0</td>\n",
       "      <td>6.0</td>\n",
       "      <td>6.0</td>\n",
       "      <td>4.0</td>\n",
       "      <td>67.0</td>\n",
       "      <td>0.0</td>\n",
       "      <td>NaN</td>\n",
       "      <td>NaN</td>\n",
       "    </tr>\n",
       "    <tr>\n",
       "      <th>...</th>\n",
       "      <td>...</td>\n",
       "      <td>...</td>\n",
       "      <td>...</td>\n",
       "      <td>...</td>\n",
       "      <td>...</td>\n",
       "      <td>...</td>\n",
       "      <td>...</td>\n",
       "      <td>...</td>\n",
       "      <td>...</td>\n",
       "      <td>...</td>\n",
       "      <td>...</td>\n",
       "      <td>...</td>\n",
       "      <td>...</td>\n",
       "      <td>...</td>\n",
       "      <td>...</td>\n",
       "      <td>...</td>\n",
       "      <td>...</td>\n",
       "    </tr>\n",
       "    <tr>\n",
       "      <th>359</th>\n",
       "      <td>1</td>\n",
       "      <td>3.09</td>\n",
       "      <td>14.20</td>\n",
       "      <td>-2.12</td>\n",
       "      <td>7.54</td>\n",
       "      <td>2.88</td>\n",
       "      <td>7.61</td>\n",
       "      <td>0.0</td>\n",
       "      <td>1.0</td>\n",
       "      <td>0.0</td>\n",
       "      <td>5.0</td>\n",
       "      <td>2.0</td>\n",
       "      <td>4.0</td>\n",
       "      <td>63.0</td>\n",
       "      <td>1.0</td>\n",
       "      <td>NaN</td>\n",
       "      <td>NaN</td>\n",
       "    </tr>\n",
       "    <tr>\n",
       "      <th>360</th>\n",
       "      <td>0</td>\n",
       "      <td>-3.72</td>\n",
       "      <td>13.52</td>\n",
       "      <td>-1.11</td>\n",
       "      <td>12.17</td>\n",
       "      <td>-3.51</td>\n",
       "      <td>4.79</td>\n",
       "      <td>0.0</td>\n",
       "      <td>1.0</td>\n",
       "      <td>0.0</td>\n",
       "      <td>4.0</td>\n",
       "      <td>0.0</td>\n",
       "      <td>1.0</td>\n",
       "      <td>92.0</td>\n",
       "      <td>1.0</td>\n",
       "      <td>https://www.youtube.com/watch?v=OkL5s59Zo6Q</td>\n",
       "      <td>01:25</td>\n",
       "    </tr>\n",
       "    <tr>\n",
       "      <th>361</th>\n",
       "      <td>1</td>\n",
       "      <td>-5.39</td>\n",
       "      <td>13.40</td>\n",
       "      <td>-0.63</td>\n",
       "      <td>10.92</td>\n",
       "      <td>3.58</td>\n",
       "      <td>7.21</td>\n",
       "      <td>0.0</td>\n",
       "      <td>1.0</td>\n",
       "      <td>0.0</td>\n",
       "      <td>4.0</td>\n",
       "      <td>0.0</td>\n",
       "      <td>2.0</td>\n",
       "      <td>92.0</td>\n",
       "      <td>0.0</td>\n",
       "      <td>NaN</td>\n",
       "      <td>NaN</td>\n",
       "    </tr>\n",
       "    <tr>\n",
       "      <th>362</th>\n",
       "      <td>0</td>\n",
       "      <td>-1.25</td>\n",
       "      <td>13.24</td>\n",
       "      <td>2.57</td>\n",
       "      <td>11.11</td>\n",
       "      <td>3.05</td>\n",
       "      <td>8.07</td>\n",
       "      <td>0.0</td>\n",
       "      <td>1.0</td>\n",
       "      <td>0.0</td>\n",
       "      <td>4.0</td>\n",
       "      <td>0.0</td>\n",
       "      <td>3.0</td>\n",
       "      <td>92.0</td>\n",
       "      <td>0.0</td>\n",
       "      <td>NaN</td>\n",
       "      <td>NaN</td>\n",
       "    </tr>\n",
       "    <tr>\n",
       "      <th>363</th>\n",
       "      <td>1</td>\n",
       "      <td>4.44</td>\n",
       "      <td>13.41</td>\n",
       "      <td>2.27</td>\n",
       "      <td>12.45</td>\n",
       "      <td>-3.42</td>\n",
       "      <td>11.62</td>\n",
       "      <td>0.0</td>\n",
       "      <td>1.0</td>\n",
       "      <td>0.0</td>\n",
       "      <td>4.0</td>\n",
       "      <td>0.0</td>\n",
       "      <td>4.0</td>\n",
       "      <td>92.0</td>\n",
       "      <td>1.0</td>\n",
       "      <td>NaN</td>\n",
       "      <td>NaN</td>\n",
       "    </tr>\n",
       "  </tbody>\n",
       "</table>\n",
       "<p>364 rows × 17 columns</p>\n",
       "</div>"
      ],
      "text/plain": [
       "     play_djoko  posx_djoko  posy_djoko  posx_opponent  posy_opponent  \\\n",
       "0             0        0.00        0.00           0.00           0.00   \n",
       "1             1        1.09       11.67           4.55          13.25   \n",
       "2             0        1.09       11.67           3.91          13.07   \n",
       "3             1        0.83       12.50           3.08          13.02   \n",
       "4             0        0.94       12.73           4.02          12.79   \n",
       "..          ...         ...         ...            ...            ...   \n",
       "359           1        3.09       14.20          -2.12           7.54   \n",
       "360           0       -3.72       13.52          -1.11          12.17   \n",
       "361           1       -5.39       13.40          -0.63          10.92   \n",
       "362           0       -1.25       13.24           2.57          11.11   \n",
       "363           1        4.44       13.41           2.27          12.45   \n",
       "\n",
       "     targetx_ball  targety_ball  serve_djoko  set_djoko  set_opponent  \\\n",
       "0            0.00          0.00          0.0        0.0           0.0   \n",
       "1            2.90          5.16          1.0        0.0           0.0   \n",
       "2            0.99          9.05          1.0        0.0           0.0   \n",
       "3            2.69          5.89          1.0        0.0           0.0   \n",
       "4            0.94          6.75          1.0        0.0           0.0   \n",
       "..            ...           ...          ...        ...           ...   \n",
       "359          2.88          7.61          0.0        1.0           0.0   \n",
       "360         -3.51          4.79          0.0        1.0           0.0   \n",
       "361          3.58          7.21          0.0        1.0           0.0   \n",
       "362          3.05          8.07          0.0        1.0           0.0   \n",
       "363         -3.42         11.62          0.0        1.0           0.0   \n",
       "\n",
       "     games_djoko  games_opponent  duration  time  forehand  \\\n",
       "0            0.0             0.0       0.0   0.0       0.0   \n",
       "1            6.0             6.0       1.0  67.0       1.0   \n",
       "2            6.0             6.0       2.0  67.0       0.0   \n",
       "3            6.0             6.0       3.0  67.0       1.0   \n",
       "4            6.0             6.0       4.0  67.0       0.0   \n",
       "..           ...             ...       ...   ...       ...   \n",
       "359          5.0             2.0       4.0  63.0       1.0   \n",
       "360          4.0             0.0       1.0  92.0       1.0   \n",
       "361          4.0             0.0       2.0  92.0       0.0   \n",
       "362          4.0             0.0       3.0  92.0       0.0   \n",
       "363          4.0             0.0       4.0  92.0       1.0   \n",
       "\n",
       "                                 reference_video start_point  \n",
       "0                                            NaN         NaN  \n",
       "1    https://www.youtube.com/watch?v=OkL5s59Zo6Q        0.08  \n",
       "2                                            NaN         NaN  \n",
       "3                                            NaN         NaN  \n",
       "4                                            NaN         NaN  \n",
       "..                                           ...         ...  \n",
       "359                                          NaN         NaN  \n",
       "360  https://www.youtube.com/watch?v=OkL5s59Zo6Q       01:25  \n",
       "361                                          NaN         NaN  \n",
       "362                                          NaN         NaN  \n",
       "363                                          NaN         NaN  \n",
       "\n",
       "[364 rows x 17 columns]"
      ]
     },
     "execution_count": 7,
     "metadata": {},
     "output_type": "execute_result"
    }
   ],
   "source": [
    "data"
   ]
  },
  {
   "cell_type": "code",
   "execution_count": 8,
   "metadata": {},
   "outputs": [
    {
     "data": {
      "text/html": [
       "<div>\n",
       "<style scoped>\n",
       "    .dataframe tbody tr th:only-of-type {\n",
       "        vertical-align: middle;\n",
       "    }\n",
       "\n",
       "    .dataframe tbody tr th {\n",
       "        vertical-align: top;\n",
       "    }\n",
       "\n",
       "    .dataframe thead th {\n",
       "        text-align: right;\n",
       "    }\n",
       "</style>\n",
       "<table border=\"1\" class=\"dataframe\">\n",
       "  <thead>\n",
       "    <tr style=\"text-align: right;\">\n",
       "      <th></th>\n",
       "      <th>play_djoko</th>\n",
       "      <th>posx_djoko</th>\n",
       "      <th>posy_djoko</th>\n",
       "      <th>posx_opponent</th>\n",
       "      <th>posy_opponent</th>\n",
       "      <th>targetx_ball</th>\n",
       "      <th>targety_ball</th>\n",
       "      <th>serve_djoko</th>\n",
       "      <th>set_djoko</th>\n",
       "      <th>set_opponent</th>\n",
       "      <th>games_djoko</th>\n",
       "      <th>games_opponent</th>\n",
       "      <th>duration</th>\n",
       "      <th>time</th>\n",
       "      <th>forehand</th>\n",
       "      <th>reference_video</th>\n",
       "      <th>start_point</th>\n",
       "    </tr>\n",
       "  </thead>\n",
       "  <tbody>\n",
       "    <tr>\n",
       "      <th>0</th>\n",
       "      <td>0</td>\n",
       "      <td>0.00</td>\n",
       "      <td>0.00</td>\n",
       "      <td>0.00</td>\n",
       "      <td>0.00</td>\n",
       "      <td>0.00</td>\n",
       "      <td>0.00</td>\n",
       "      <td>0.0</td>\n",
       "      <td>0.0</td>\n",
       "      <td>0.0</td>\n",
       "      <td>0.0</td>\n",
       "      <td>0.0</td>\n",
       "      <td>0.0</td>\n",
       "      <td>0.0</td>\n",
       "      <td>0.0</td>\n",
       "      <td>NaN</td>\n",
       "      <td>NaN</td>\n",
       "    </tr>\n",
       "    <tr>\n",
       "      <th>2</th>\n",
       "      <td>0</td>\n",
       "      <td>1.09</td>\n",
       "      <td>11.67</td>\n",
       "      <td>3.91</td>\n",
       "      <td>13.07</td>\n",
       "      <td>0.99</td>\n",
       "      <td>9.05</td>\n",
       "      <td>1.0</td>\n",
       "      <td>0.0</td>\n",
       "      <td>0.0</td>\n",
       "      <td>6.0</td>\n",
       "      <td>6.0</td>\n",
       "      <td>2.0</td>\n",
       "      <td>67.0</td>\n",
       "      <td>0.0</td>\n",
       "      <td>NaN</td>\n",
       "      <td>NaN</td>\n",
       "    </tr>\n",
       "    <tr>\n",
       "      <th>4</th>\n",
       "      <td>0</td>\n",
       "      <td>0.94</td>\n",
       "      <td>12.73</td>\n",
       "      <td>4.02</td>\n",
       "      <td>12.79</td>\n",
       "      <td>0.94</td>\n",
       "      <td>6.75</td>\n",
       "      <td>1.0</td>\n",
       "      <td>0.0</td>\n",
       "      <td>0.0</td>\n",
       "      <td>6.0</td>\n",
       "      <td>6.0</td>\n",
       "      <td>4.0</td>\n",
       "      <td>67.0</td>\n",
       "      <td>0.0</td>\n",
       "      <td>NaN</td>\n",
       "      <td>NaN</td>\n",
       "    </tr>\n",
       "    <tr>\n",
       "      <th>6</th>\n",
       "      <td>0</td>\n",
       "      <td>-0.05</td>\n",
       "      <td>13.05</td>\n",
       "      <td>-0.75</td>\n",
       "      <td>12.79</td>\n",
       "      <td>-0.94</td>\n",
       "      <td>9.56</td>\n",
       "      <td>1.0</td>\n",
       "      <td>0.0</td>\n",
       "      <td>0.0</td>\n",
       "      <td>6.0</td>\n",
       "      <td>6.0</td>\n",
       "      <td>6.0</td>\n",
       "      <td>67.0</td>\n",
       "      <td>1.0</td>\n",
       "      <td>NaN</td>\n",
       "      <td>NaN</td>\n",
       "    </tr>\n",
       "    <tr>\n",
       "      <th>8</th>\n",
       "      <td>0</td>\n",
       "      <td>-1.73</td>\n",
       "      <td>12.74</td>\n",
       "      <td>-4.41</td>\n",
       "      <td>13.20</td>\n",
       "      <td>-2.95</td>\n",
       "      <td>9.74</td>\n",
       "      <td>1.0</td>\n",
       "      <td>0.0</td>\n",
       "      <td>0.0</td>\n",
       "      <td>6.0</td>\n",
       "      <td>6.0</td>\n",
       "      <td>8.0</td>\n",
       "      <td>67.0</td>\n",
       "      <td>1.0</td>\n",
       "      <td>NaN</td>\n",
       "      <td>NaN</td>\n",
       "    </tr>\n",
       "    <tr>\n",
       "      <th>...</th>\n",
       "      <td>...</td>\n",
       "      <td>...</td>\n",
       "      <td>...</td>\n",
       "      <td>...</td>\n",
       "      <td>...</td>\n",
       "      <td>...</td>\n",
       "      <td>...</td>\n",
       "      <td>...</td>\n",
       "      <td>...</td>\n",
       "      <td>...</td>\n",
       "      <td>...</td>\n",
       "      <td>...</td>\n",
       "      <td>...</td>\n",
       "      <td>...</td>\n",
       "      <td>...</td>\n",
       "      <td>...</td>\n",
       "      <td>...</td>\n",
       "    </tr>\n",
       "    <tr>\n",
       "      <th>354</th>\n",
       "      <td>0</td>\n",
       "      <td>-3.60</td>\n",
       "      <td>12.85</td>\n",
       "      <td>1.33</td>\n",
       "      <td>13.49</td>\n",
       "      <td>2.50</td>\n",
       "      <td>1.88</td>\n",
       "      <td>1.0</td>\n",
       "      <td>1.0</td>\n",
       "      <td>1.0</td>\n",
       "      <td>1.0</td>\n",
       "      <td>0.0</td>\n",
       "      <td>14.0</td>\n",
       "      <td>NaN</td>\n",
       "      <td>NaN</td>\n",
       "      <td>NaN</td>\n",
       "      <td>NaN</td>\n",
       "    </tr>\n",
       "    <tr>\n",
       "      <th>356</th>\n",
       "      <td>0</td>\n",
       "      <td>3.44</td>\n",
       "      <td>13.49</td>\n",
       "      <td>0.71</td>\n",
       "      <td>12.05</td>\n",
       "      <td>0.34</td>\n",
       "      <td>4.91</td>\n",
       "      <td>0.0</td>\n",
       "      <td>1.0</td>\n",
       "      <td>0.0</td>\n",
       "      <td>5.0</td>\n",
       "      <td>2.0</td>\n",
       "      <td>1.0</td>\n",
       "      <td>63.0</td>\n",
       "      <td>1.0</td>\n",
       "      <td>https://www.youtube.com/watch?v=e0M6ZDLqLmk</td>\n",
       "      <td>05:22</td>\n",
       "    </tr>\n",
       "    <tr>\n",
       "      <th>358</th>\n",
       "      <td>0</td>\n",
       "      <td>0.13</td>\n",
       "      <td>14.09</td>\n",
       "      <td>-3.02</td>\n",
       "      <td>9.66</td>\n",
       "      <td>3.28</td>\n",
       "      <td>11.29</td>\n",
       "      <td>0.0</td>\n",
       "      <td>1.0</td>\n",
       "      <td>0.0</td>\n",
       "      <td>5.0</td>\n",
       "      <td>2.0</td>\n",
       "      <td>3.0</td>\n",
       "      <td>63.0</td>\n",
       "      <td>1.0</td>\n",
       "      <td>NaN</td>\n",
       "      <td>NaN</td>\n",
       "    </tr>\n",
       "    <tr>\n",
       "      <th>360</th>\n",
       "      <td>0</td>\n",
       "      <td>-3.72</td>\n",
       "      <td>13.52</td>\n",
       "      <td>-1.11</td>\n",
       "      <td>12.17</td>\n",
       "      <td>-3.51</td>\n",
       "      <td>4.79</td>\n",
       "      <td>0.0</td>\n",
       "      <td>1.0</td>\n",
       "      <td>0.0</td>\n",
       "      <td>4.0</td>\n",
       "      <td>0.0</td>\n",
       "      <td>1.0</td>\n",
       "      <td>92.0</td>\n",
       "      <td>1.0</td>\n",
       "      <td>https://www.youtube.com/watch?v=OkL5s59Zo6Q</td>\n",
       "      <td>01:25</td>\n",
       "    </tr>\n",
       "    <tr>\n",
       "      <th>362</th>\n",
       "      <td>0</td>\n",
       "      <td>-1.25</td>\n",
       "      <td>13.24</td>\n",
       "      <td>2.57</td>\n",
       "      <td>11.11</td>\n",
       "      <td>3.05</td>\n",
       "      <td>8.07</td>\n",
       "      <td>0.0</td>\n",
       "      <td>1.0</td>\n",
       "      <td>0.0</td>\n",
       "      <td>4.0</td>\n",
       "      <td>0.0</td>\n",
       "      <td>3.0</td>\n",
       "      <td>92.0</td>\n",
       "      <td>0.0</td>\n",
       "      <td>NaN</td>\n",
       "      <td>NaN</td>\n",
       "    </tr>\n",
       "  </tbody>\n",
       "</table>\n",
       "<p>182 rows × 17 columns</p>\n",
       "</div>"
      ],
      "text/plain": [
       "     play_djoko  posx_djoko  posy_djoko  posx_opponent  posy_opponent  \\\n",
       "0             0        0.00        0.00           0.00           0.00   \n",
       "2             0        1.09       11.67           3.91          13.07   \n",
       "4             0        0.94       12.73           4.02          12.79   \n",
       "6             0       -0.05       13.05          -0.75          12.79   \n",
       "8             0       -1.73       12.74          -4.41          13.20   \n",
       "..          ...         ...         ...            ...            ...   \n",
       "354           0       -3.60       12.85           1.33          13.49   \n",
       "356           0        3.44       13.49           0.71          12.05   \n",
       "358           0        0.13       14.09          -3.02           9.66   \n",
       "360           0       -3.72       13.52          -1.11          12.17   \n",
       "362           0       -1.25       13.24           2.57          11.11   \n",
       "\n",
       "     targetx_ball  targety_ball  serve_djoko  set_djoko  set_opponent  \\\n",
       "0            0.00          0.00          0.0        0.0           0.0   \n",
       "2            0.99          9.05          1.0        0.0           0.0   \n",
       "4            0.94          6.75          1.0        0.0           0.0   \n",
       "6           -0.94          9.56          1.0        0.0           0.0   \n",
       "8           -2.95          9.74          1.0        0.0           0.0   \n",
       "..            ...           ...          ...        ...           ...   \n",
       "354          2.50          1.88          1.0        1.0           1.0   \n",
       "356          0.34          4.91          0.0        1.0           0.0   \n",
       "358          3.28         11.29          0.0        1.0           0.0   \n",
       "360         -3.51          4.79          0.0        1.0           0.0   \n",
       "362          3.05          8.07          0.0        1.0           0.0   \n",
       "\n",
       "     games_djoko  games_opponent  duration  time  forehand  \\\n",
       "0            0.0             0.0       0.0   0.0       0.0   \n",
       "2            6.0             6.0       2.0  67.0       0.0   \n",
       "4            6.0             6.0       4.0  67.0       0.0   \n",
       "6            6.0             6.0       6.0  67.0       1.0   \n",
       "8            6.0             6.0       8.0  67.0       1.0   \n",
       "..           ...             ...       ...   ...       ...   \n",
       "354          1.0             0.0      14.0   NaN       NaN   \n",
       "356          5.0             2.0       1.0  63.0       1.0   \n",
       "358          5.0             2.0       3.0  63.0       1.0   \n",
       "360          4.0             0.0       1.0  92.0       1.0   \n",
       "362          4.0             0.0       3.0  92.0       0.0   \n",
       "\n",
       "                                 reference_video start_point  \n",
       "0                                            NaN         NaN  \n",
       "2                                            NaN         NaN  \n",
       "4                                            NaN         NaN  \n",
       "6                                            NaN         NaN  \n",
       "8                                            NaN         NaN  \n",
       "..                                           ...         ...  \n",
       "354                                          NaN         NaN  \n",
       "356  https://www.youtube.com/watch?v=e0M6ZDLqLmk       05:22  \n",
       "358                                          NaN         NaN  \n",
       "360  https://www.youtube.com/watch?v=OkL5s59Zo6Q       01:25  \n",
       "362                                          NaN         NaN  \n",
       "\n",
       "[182 rows x 17 columns]"
      ]
     },
     "execution_count": 8,
     "metadata": {},
     "output_type": "execute_result"
    }
   ],
   "source": [
    "X = data[data['play_djoko']==0]\n",
    "X"
   ]
  },
  {
   "cell_type": "code",
   "execution_count": 9,
   "metadata": {},
   "outputs": [
    {
     "name": "stdout",
     "output_type": "stream",
     "text": [
      "<class 'pandas.core.frame.DataFrame'>\n",
      "Int64Index: 182 entries, 0 to 362\n",
      "Data columns (total 17 columns):\n",
      " #   Column           Non-Null Count  Dtype  \n",
      "---  ------           --------------  -----  \n",
      " 0   play_djoko       182 non-null    int64  \n",
      " 1   posx_djoko       182 non-null    float64\n",
      " 2   posy_djoko       182 non-null    float64\n",
      " 3   posx_opponent    182 non-null    float64\n",
      " 4   posy_opponent    182 non-null    float64\n",
      " 5   targetx_ball     182 non-null    float64\n",
      " 6   targety_ball     182 non-null    float64\n",
      " 7   serve_djoko      182 non-null    float64\n",
      " 8   set_djoko        182 non-null    float64\n",
      " 9   set_opponent     182 non-null    float64\n",
      " 10  games_djoko      182 non-null    float64\n",
      " 11  games_opponent   182 non-null    float64\n",
      " 12  duration         182 non-null    float64\n",
      " 13  time             160 non-null    float64\n",
      " 14  forehand         160 non-null    float64\n",
      " 15  reference_video  20 non-null     object \n",
      " 16  start_point      21 non-null     object \n",
      "dtypes: float64(14), int64(1), object(2)\n",
      "memory usage: 25.6+ KB\n"
     ]
    }
   ],
   "source": [
    "X.info()"
   ]
  },
  {
   "cell_type": "code",
   "execution_count": 10,
   "metadata": {},
   "outputs": [
    {
     "data": {
      "text/html": [
       "<div>\n",
       "<style scoped>\n",
       "    .dataframe tbody tr th:only-of-type {\n",
       "        vertical-align: middle;\n",
       "    }\n",
       "\n",
       "    .dataframe tbody tr th {\n",
       "        vertical-align: top;\n",
       "    }\n",
       "\n",
       "    .dataframe thead th {\n",
       "        text-align: right;\n",
       "    }\n",
       "</style>\n",
       "<table border=\"1\" class=\"dataframe\">\n",
       "  <thead>\n",
       "    <tr style=\"text-align: right;\">\n",
       "      <th></th>\n",
       "      <th>play_djoko</th>\n",
       "      <th>posx_djoko</th>\n",
       "      <th>posy_djoko</th>\n",
       "      <th>posx_opponent</th>\n",
       "      <th>posy_opponent</th>\n",
       "      <th>targetx_ball</th>\n",
       "      <th>targety_ball</th>\n",
       "      <th>serve_djoko</th>\n",
       "      <th>set_djoko</th>\n",
       "      <th>set_opponent</th>\n",
       "      <th>games_djoko</th>\n",
       "      <th>games_opponent</th>\n",
       "      <th>duration</th>\n",
       "      <th>time</th>\n",
       "      <th>forehand</th>\n",
       "      <th>reference_video</th>\n",
       "      <th>start_point</th>\n",
       "    </tr>\n",
       "  </thead>\n",
       "  <tbody>\n",
       "    <tr>\n",
       "      <th>1</th>\n",
       "      <td>1</td>\n",
       "      <td>1.09</td>\n",
       "      <td>11.67</td>\n",
       "      <td>4.55</td>\n",
       "      <td>13.25</td>\n",
       "      <td>2.90</td>\n",
       "      <td>5.16</td>\n",
       "      <td>1.0</td>\n",
       "      <td>0.0</td>\n",
       "      <td>0.0</td>\n",
       "      <td>6.0</td>\n",
       "      <td>6.0</td>\n",
       "      <td>1.0</td>\n",
       "      <td>67.0</td>\n",
       "      <td>1.0</td>\n",
       "      <td>https://www.youtube.com/watch?v=OkL5s59Zo6Q</td>\n",
       "      <td>0.08</td>\n",
       "    </tr>\n",
       "    <tr>\n",
       "      <th>3</th>\n",
       "      <td>1</td>\n",
       "      <td>0.83</td>\n",
       "      <td>12.50</td>\n",
       "      <td>3.08</td>\n",
       "      <td>13.02</td>\n",
       "      <td>2.69</td>\n",
       "      <td>5.89</td>\n",
       "      <td>1.0</td>\n",
       "      <td>0.0</td>\n",
       "      <td>0.0</td>\n",
       "      <td>6.0</td>\n",
       "      <td>6.0</td>\n",
       "      <td>3.0</td>\n",
       "      <td>67.0</td>\n",
       "      <td>1.0</td>\n",
       "      <td>NaN</td>\n",
       "      <td>NaN</td>\n",
       "    </tr>\n",
       "    <tr>\n",
       "      <th>5</th>\n",
       "      <td>1</td>\n",
       "      <td>1.75</td>\n",
       "      <td>12.82</td>\n",
       "      <td>2.07</td>\n",
       "      <td>12.70</td>\n",
       "      <td>-1.90</td>\n",
       "      <td>6.45</td>\n",
       "      <td>1.0</td>\n",
       "      <td>0.0</td>\n",
       "      <td>0.0</td>\n",
       "      <td>6.0</td>\n",
       "      <td>6.0</td>\n",
       "      <td>5.0</td>\n",
       "      <td>67.0</td>\n",
       "      <td>1.0</td>\n",
       "      <td>NaN</td>\n",
       "      <td>NaN</td>\n",
       "    </tr>\n",
       "    <tr>\n",
       "      <th>7</th>\n",
       "      <td>1</td>\n",
       "      <td>-2.64</td>\n",
       "      <td>12.87</td>\n",
       "      <td>-0.60</td>\n",
       "      <td>12.75</td>\n",
       "      <td>-3.81</td>\n",
       "      <td>10.22</td>\n",
       "      <td>1.0</td>\n",
       "      <td>0.0</td>\n",
       "      <td>0.0</td>\n",
       "      <td>6.0</td>\n",
       "      <td>6.0</td>\n",
       "      <td>7.0</td>\n",
       "      <td>67.0</td>\n",
       "      <td>1.0</td>\n",
       "      <td>NaN</td>\n",
       "      <td>NaN</td>\n",
       "    </tr>\n",
       "    <tr>\n",
       "      <th>9</th>\n",
       "      <td>1</td>\n",
       "      <td>-3.24</td>\n",
       "      <td>12.36</td>\n",
       "      <td>-3.60</td>\n",
       "      <td>12.79</td>\n",
       "      <td>-1.96</td>\n",
       "      <td>2.86</td>\n",
       "      <td>1.0</td>\n",
       "      <td>0.0</td>\n",
       "      <td>0.0</td>\n",
       "      <td>6.0</td>\n",
       "      <td>6.0</td>\n",
       "      <td>9.0</td>\n",
       "      <td>67.0</td>\n",
       "      <td>0.0</td>\n",
       "      <td>NaN</td>\n",
       "      <td>NaN</td>\n",
       "    </tr>\n",
       "    <tr>\n",
       "      <th>...</th>\n",
       "      <td>...</td>\n",
       "      <td>...</td>\n",
       "      <td>...</td>\n",
       "      <td>...</td>\n",
       "      <td>...</td>\n",
       "      <td>...</td>\n",
       "      <td>...</td>\n",
       "      <td>...</td>\n",
       "      <td>...</td>\n",
       "      <td>...</td>\n",
       "      <td>...</td>\n",
       "      <td>...</td>\n",
       "      <td>...</td>\n",
       "      <td>...</td>\n",
       "      <td>...</td>\n",
       "      <td>...</td>\n",
       "      <td>...</td>\n",
       "    </tr>\n",
       "    <tr>\n",
       "      <th>355</th>\n",
       "      <td>1</td>\n",
       "      <td>3.10</td>\n",
       "      <td>5.77</td>\n",
       "      <td>1.26</td>\n",
       "      <td>13.46</td>\n",
       "      <td>1.68</td>\n",
       "      <td>1.76</td>\n",
       "      <td>1.0</td>\n",
       "      <td>1.0</td>\n",
       "      <td>NaN</td>\n",
       "      <td>1.0</td>\n",
       "      <td>0.0</td>\n",
       "      <td>15.0</td>\n",
       "      <td>NaN</td>\n",
       "      <td>NaN</td>\n",
       "      <td>NaN</td>\n",
       "      <td>NaN</td>\n",
       "    </tr>\n",
       "    <tr>\n",
       "      <th>357</th>\n",
       "      <td>1</td>\n",
       "      <td>2.09</td>\n",
       "      <td>12.85</td>\n",
       "      <td>0.72</td>\n",
       "      <td>11.92</td>\n",
       "      <td>-3.18</td>\n",
       "      <td>4.48</td>\n",
       "      <td>0.0</td>\n",
       "      <td>1.0</td>\n",
       "      <td>0.0</td>\n",
       "      <td>5.0</td>\n",
       "      <td>2.0</td>\n",
       "      <td>2.0</td>\n",
       "      <td>63.0</td>\n",
       "      <td>0.0</td>\n",
       "      <td>NaN</td>\n",
       "      <td>NaN</td>\n",
       "    </tr>\n",
       "    <tr>\n",
       "      <th>359</th>\n",
       "      <td>1</td>\n",
       "      <td>3.09</td>\n",
       "      <td>14.20</td>\n",
       "      <td>-2.12</td>\n",
       "      <td>7.54</td>\n",
       "      <td>2.88</td>\n",
       "      <td>7.61</td>\n",
       "      <td>0.0</td>\n",
       "      <td>1.0</td>\n",
       "      <td>0.0</td>\n",
       "      <td>5.0</td>\n",
       "      <td>2.0</td>\n",
       "      <td>4.0</td>\n",
       "      <td>63.0</td>\n",
       "      <td>1.0</td>\n",
       "      <td>NaN</td>\n",
       "      <td>NaN</td>\n",
       "    </tr>\n",
       "    <tr>\n",
       "      <th>361</th>\n",
       "      <td>1</td>\n",
       "      <td>-5.39</td>\n",
       "      <td>13.40</td>\n",
       "      <td>-0.63</td>\n",
       "      <td>10.92</td>\n",
       "      <td>3.58</td>\n",
       "      <td>7.21</td>\n",
       "      <td>0.0</td>\n",
       "      <td>1.0</td>\n",
       "      <td>0.0</td>\n",
       "      <td>4.0</td>\n",
       "      <td>0.0</td>\n",
       "      <td>2.0</td>\n",
       "      <td>92.0</td>\n",
       "      <td>0.0</td>\n",
       "      <td>NaN</td>\n",
       "      <td>NaN</td>\n",
       "    </tr>\n",
       "    <tr>\n",
       "      <th>363</th>\n",
       "      <td>1</td>\n",
       "      <td>4.44</td>\n",
       "      <td>13.41</td>\n",
       "      <td>2.27</td>\n",
       "      <td>12.45</td>\n",
       "      <td>-3.42</td>\n",
       "      <td>11.62</td>\n",
       "      <td>0.0</td>\n",
       "      <td>1.0</td>\n",
       "      <td>0.0</td>\n",
       "      <td>4.0</td>\n",
       "      <td>0.0</td>\n",
       "      <td>4.0</td>\n",
       "      <td>92.0</td>\n",
       "      <td>1.0</td>\n",
       "      <td>NaN</td>\n",
       "      <td>NaN</td>\n",
       "    </tr>\n",
       "  </tbody>\n",
       "</table>\n",
       "<p>182 rows × 17 columns</p>\n",
       "</div>"
      ],
      "text/plain": [
       "     play_djoko  posx_djoko  posy_djoko  posx_opponent  posy_opponent  \\\n",
       "1             1        1.09       11.67           4.55          13.25   \n",
       "3             1        0.83       12.50           3.08          13.02   \n",
       "5             1        1.75       12.82           2.07          12.70   \n",
       "7             1       -2.64       12.87          -0.60          12.75   \n",
       "9             1       -3.24       12.36          -3.60          12.79   \n",
       "..          ...         ...         ...            ...            ...   \n",
       "355           1        3.10        5.77           1.26          13.46   \n",
       "357           1        2.09       12.85           0.72          11.92   \n",
       "359           1        3.09       14.20          -2.12           7.54   \n",
       "361           1       -5.39       13.40          -0.63          10.92   \n",
       "363           1        4.44       13.41           2.27          12.45   \n",
       "\n",
       "     targetx_ball  targety_ball  serve_djoko  set_djoko  set_opponent  \\\n",
       "1            2.90          5.16          1.0        0.0           0.0   \n",
       "3            2.69          5.89          1.0        0.0           0.0   \n",
       "5           -1.90          6.45          1.0        0.0           0.0   \n",
       "7           -3.81         10.22          1.0        0.0           0.0   \n",
       "9           -1.96          2.86          1.0        0.0           0.0   \n",
       "..            ...           ...          ...        ...           ...   \n",
       "355          1.68          1.76          1.0        1.0           NaN   \n",
       "357         -3.18          4.48          0.0        1.0           0.0   \n",
       "359          2.88          7.61          0.0        1.0           0.0   \n",
       "361          3.58          7.21          0.0        1.0           0.0   \n",
       "363         -3.42         11.62          0.0        1.0           0.0   \n",
       "\n",
       "     games_djoko  games_opponent  duration  time  forehand  \\\n",
       "1            6.0             6.0       1.0  67.0       1.0   \n",
       "3            6.0             6.0       3.0  67.0       1.0   \n",
       "5            6.0             6.0       5.0  67.0       1.0   \n",
       "7            6.0             6.0       7.0  67.0       1.0   \n",
       "9            6.0             6.0       9.0  67.0       0.0   \n",
       "..           ...             ...       ...   ...       ...   \n",
       "355          1.0             0.0      15.0   NaN       NaN   \n",
       "357          5.0             2.0       2.0  63.0       0.0   \n",
       "359          5.0             2.0       4.0  63.0       1.0   \n",
       "361          4.0             0.0       2.0  92.0       0.0   \n",
       "363          4.0             0.0       4.0  92.0       1.0   \n",
       "\n",
       "                                 reference_video start_point  \n",
       "1    https://www.youtube.com/watch?v=OkL5s59Zo6Q        0.08  \n",
       "3                                            NaN         NaN  \n",
       "5                                            NaN         NaN  \n",
       "7                                            NaN         NaN  \n",
       "9                                            NaN         NaN  \n",
       "..                                           ...         ...  \n",
       "355                                          NaN         NaN  \n",
       "357                                          NaN         NaN  \n",
       "359                                          NaN         NaN  \n",
       "361                                          NaN         NaN  \n",
       "363                                          NaN         NaN  \n",
       "\n",
       "[182 rows x 17 columns]"
      ]
     },
     "execution_count": 10,
     "metadata": {},
     "output_type": "execute_result"
    }
   ],
   "source": [
    "Y = data[data['play_djoko']==1]\n",
    "Y"
   ]
  },
  {
   "cell_type": "code",
   "execution_count": 11,
   "metadata": {},
   "outputs": [
    {
     "name": "stdout",
     "output_type": "stream",
     "text": [
      "<class 'pandas.core.frame.DataFrame'>\n",
      "Int64Index: 182 entries, 1 to 363\n",
      "Data columns (total 17 columns):\n",
      " #   Column           Non-Null Count  Dtype  \n",
      "---  ------           --------------  -----  \n",
      " 0   play_djoko       182 non-null    int64  \n",
      " 1   posx_djoko       175 non-null    float64\n",
      " 2   posy_djoko       175 non-null    float64\n",
      " 3   posx_opponent    175 non-null    float64\n",
      " 4   posy_opponent    175 non-null    float64\n",
      " 5   targetx_ball     182 non-null    float64\n",
      " 6   targety_ball     182 non-null    float64\n",
      " 7   serve_djoko      182 non-null    float64\n",
      " 8   set_djoko        182 non-null    float64\n",
      " 9   set_opponent     181 non-null    float64\n",
      " 10  games_djoko      182 non-null    float64\n",
      " 11  games_opponent   181 non-null    float64\n",
      " 12  duration         181 non-null    float64\n",
      " 13  time             159 non-null    float64\n",
      " 14  forehand         154 non-null    float64\n",
      " 15  reference_video  17 non-null     object \n",
      " 16  start_point      17 non-null     object \n",
      "dtypes: float64(14), int64(1), object(2)\n",
      "memory usage: 25.6+ KB\n"
     ]
    }
   ],
   "source": [
    "Y.info()"
   ]
  },
  {
   "cell_type": "code",
   "execution_count": 12,
   "metadata": {},
   "outputs": [
    {
     "name": "stderr",
     "output_type": "stream",
     "text": [
      "C:\\ProgramData\\Anaconda3\\lib\\site-packages\\pandas\\core\\indexing.py:1884: SettingWithCopyWarning: \n",
      "A value is trying to be set on a copy of a slice from a DataFrame.\n",
      "Try using .loc[row_indexer,col_indexer] = value instead\n",
      "\n",
      "See the caveats in the documentation: https://pandas.pydata.org/pandas-docs/stable/user_guide/indexing.html#returning-a-view-versus-a-copy\n",
      "  self._setitem_single_column(loc, val, pi)\n"
     ]
    }
   ],
   "source": [
    "var_nan = [\"posx_djoko\",\"posy_djoko\",\"posx_opponent\",\"posy_opponent\"]\n",
    "Y.loc[:, var_nan] = Y.loc[:, var_nan].fillna(-100)"
   ]
  },
  {
   "cell_type": "code",
   "execution_count": 13,
   "metadata": {},
   "outputs": [
    {
     "name": "stdout",
     "output_type": "stream",
     "text": [
      "<class 'pandas.core.frame.DataFrame'>\n",
      "Int64Index: 182 entries, 1 to 363\n",
      "Data columns (total 17 columns):\n",
      " #   Column           Non-Null Count  Dtype  \n",
      "---  ------           --------------  -----  \n",
      " 0   play_djoko       182 non-null    int64  \n",
      " 1   posx_djoko       182 non-null    float64\n",
      " 2   posy_djoko       182 non-null    float64\n",
      " 3   posx_opponent    182 non-null    float64\n",
      " 4   posy_opponent    182 non-null    float64\n",
      " 5   targetx_ball     182 non-null    float64\n",
      " 6   targety_ball     182 non-null    float64\n",
      " 7   serve_djoko      182 non-null    float64\n",
      " 8   set_djoko        182 non-null    float64\n",
      " 9   set_opponent     181 non-null    float64\n",
      " 10  games_djoko      182 non-null    float64\n",
      " 11  games_opponent   181 non-null    float64\n",
      " 12  duration         181 non-null    float64\n",
      " 13  time             159 non-null    float64\n",
      " 14  forehand         154 non-null    float64\n",
      " 15  reference_video  17 non-null     object \n",
      " 16  start_point      17 non-null     object \n",
      "dtypes: float64(14), int64(1), object(2)\n",
      "memory usage: 25.6+ KB\n"
     ]
    }
   ],
   "source": [
    "Y.info()"
   ]
  },
  {
   "cell_type": "code",
   "execution_count": 14,
   "metadata": {},
   "outputs": [],
   "source": [
    "X = X[var_names_input]\n",
    "Y = Y[var_names_output]"
   ]
  },
  {
   "cell_type": "code",
   "execution_count": 15,
   "metadata": {},
   "outputs": [
    {
     "data": {
      "text/plain": [
       "((182, 11), (182, 2))"
      ]
     },
     "execution_count": 15,
     "metadata": {},
     "output_type": "execute_result"
    }
   ],
   "source": [
    "X.shape, Y.shape"
   ]
  },
  {
   "cell_type": "code",
   "execution_count": 16,
   "metadata": {},
   "outputs": [
    {
     "data": {
      "text/html": [
       "<div>\n",
       "<style scoped>\n",
       "    .dataframe tbody tr th:only-of-type {\n",
       "        vertical-align: middle;\n",
       "    }\n",
       "\n",
       "    .dataframe tbody tr th {\n",
       "        vertical-align: top;\n",
       "    }\n",
       "\n",
       "    .dataframe thead th {\n",
       "        text-align: right;\n",
       "    }\n",
       "</style>\n",
       "<table border=\"1\" class=\"dataframe\">\n",
       "  <thead>\n",
       "    <tr style=\"text-align: right;\">\n",
       "      <th></th>\n",
       "      <th>posx_djoko</th>\n",
       "      <th>posy_djoko</th>\n",
       "      <th>posx_opponent</th>\n",
       "      <th>posy_opponent</th>\n",
       "      <th>targetx_ball</th>\n",
       "      <th>targety_ball</th>\n",
       "      <th>set_djoko</th>\n",
       "      <th>set_opponent</th>\n",
       "      <th>games_djoko</th>\n",
       "      <th>games_opponent</th>\n",
       "      <th>duration</th>\n",
       "    </tr>\n",
       "  </thead>\n",
       "  <tbody>\n",
       "    <tr>\n",
       "      <th>0</th>\n",
       "      <td>0.00</td>\n",
       "      <td>0.00</td>\n",
       "      <td>0.00</td>\n",
       "      <td>0.00</td>\n",
       "      <td>0.00</td>\n",
       "      <td>0.00</td>\n",
       "      <td>0.0</td>\n",
       "      <td>0.0</td>\n",
       "      <td>0.0</td>\n",
       "      <td>0.0</td>\n",
       "      <td>0.0</td>\n",
       "    </tr>\n",
       "    <tr>\n",
       "      <th>2</th>\n",
       "      <td>1.09</td>\n",
       "      <td>11.67</td>\n",
       "      <td>3.91</td>\n",
       "      <td>13.07</td>\n",
       "      <td>0.99</td>\n",
       "      <td>9.05</td>\n",
       "      <td>0.0</td>\n",
       "      <td>0.0</td>\n",
       "      <td>6.0</td>\n",
       "      <td>6.0</td>\n",
       "      <td>2.0</td>\n",
       "    </tr>\n",
       "    <tr>\n",
       "      <th>4</th>\n",
       "      <td>0.94</td>\n",
       "      <td>12.73</td>\n",
       "      <td>4.02</td>\n",
       "      <td>12.79</td>\n",
       "      <td>0.94</td>\n",
       "      <td>6.75</td>\n",
       "      <td>0.0</td>\n",
       "      <td>0.0</td>\n",
       "      <td>6.0</td>\n",
       "      <td>6.0</td>\n",
       "      <td>4.0</td>\n",
       "    </tr>\n",
       "    <tr>\n",
       "      <th>6</th>\n",
       "      <td>-0.05</td>\n",
       "      <td>13.05</td>\n",
       "      <td>-0.75</td>\n",
       "      <td>12.79</td>\n",
       "      <td>-0.94</td>\n",
       "      <td>9.56</td>\n",
       "      <td>0.0</td>\n",
       "      <td>0.0</td>\n",
       "      <td>6.0</td>\n",
       "      <td>6.0</td>\n",
       "      <td>6.0</td>\n",
       "    </tr>\n",
       "    <tr>\n",
       "      <th>8</th>\n",
       "      <td>-1.73</td>\n",
       "      <td>12.74</td>\n",
       "      <td>-4.41</td>\n",
       "      <td>13.20</td>\n",
       "      <td>-2.95</td>\n",
       "      <td>9.74</td>\n",
       "      <td>0.0</td>\n",
       "      <td>0.0</td>\n",
       "      <td>6.0</td>\n",
       "      <td>6.0</td>\n",
       "      <td>8.0</td>\n",
       "    </tr>\n",
       "  </tbody>\n",
       "</table>\n",
       "</div>"
      ],
      "text/plain": [
       "   posx_djoko  posy_djoko  posx_opponent  posy_opponent  targetx_ball  \\\n",
       "0        0.00        0.00           0.00           0.00          0.00   \n",
       "2        1.09       11.67           3.91          13.07          0.99   \n",
       "4        0.94       12.73           4.02          12.79          0.94   \n",
       "6       -0.05       13.05          -0.75          12.79         -0.94   \n",
       "8       -1.73       12.74          -4.41          13.20         -2.95   \n",
       "\n",
       "   targety_ball  set_djoko  set_opponent  games_djoko  games_opponent  \\\n",
       "0          0.00        0.0           0.0          0.0             0.0   \n",
       "2          9.05        0.0           0.0          6.0             6.0   \n",
       "4          6.75        0.0           0.0          6.0             6.0   \n",
       "6          9.56        0.0           0.0          6.0             6.0   \n",
       "8          9.74        0.0           0.0          6.0             6.0   \n",
       "\n",
       "   duration  \n",
       "0       0.0  \n",
       "2       2.0  \n",
       "4       4.0  \n",
       "6       6.0  \n",
       "8       8.0  "
      ]
     },
     "execution_count": 16,
     "metadata": {},
     "output_type": "execute_result"
    }
   ],
   "source": [
    "X.head()"
   ]
  },
  {
   "cell_type": "code",
   "execution_count": 17,
   "metadata": {},
   "outputs": [
    {
     "data": {
      "text/html": [
       "<div>\n",
       "<style scoped>\n",
       "    .dataframe tbody tr th:only-of-type {\n",
       "        vertical-align: middle;\n",
       "    }\n",
       "\n",
       "    .dataframe tbody tr th {\n",
       "        vertical-align: top;\n",
       "    }\n",
       "\n",
       "    .dataframe thead th {\n",
       "        text-align: right;\n",
       "    }\n",
       "</style>\n",
       "<table border=\"1\" class=\"dataframe\">\n",
       "  <thead>\n",
       "    <tr style=\"text-align: right;\">\n",
       "      <th></th>\n",
       "      <th>targetx_ball</th>\n",
       "      <th>targety_ball</th>\n",
       "    </tr>\n",
       "  </thead>\n",
       "  <tbody>\n",
       "    <tr>\n",
       "      <th>1</th>\n",
       "      <td>2.90</td>\n",
       "      <td>5.16</td>\n",
       "    </tr>\n",
       "    <tr>\n",
       "      <th>3</th>\n",
       "      <td>2.69</td>\n",
       "      <td>5.89</td>\n",
       "    </tr>\n",
       "    <tr>\n",
       "      <th>5</th>\n",
       "      <td>-1.90</td>\n",
       "      <td>6.45</td>\n",
       "    </tr>\n",
       "    <tr>\n",
       "      <th>7</th>\n",
       "      <td>-3.81</td>\n",
       "      <td>10.22</td>\n",
       "    </tr>\n",
       "    <tr>\n",
       "      <th>9</th>\n",
       "      <td>-1.96</td>\n",
       "      <td>2.86</td>\n",
       "    </tr>\n",
       "  </tbody>\n",
       "</table>\n",
       "</div>"
      ],
      "text/plain": [
       "   targetx_ball  targety_ball\n",
       "1          2.90          5.16\n",
       "3          2.69          5.89\n",
       "5         -1.90          6.45\n",
       "7         -3.81         10.22\n",
       "9         -1.96          2.86"
      ]
     },
     "execution_count": 17,
     "metadata": {},
     "output_type": "execute_result"
    }
   ],
   "source": [
    "Y.head()"
   ]
  },
  {
   "cell_type": "code",
   "execution_count": 18,
   "metadata": {},
   "outputs": [
    {
     "data": {
      "text/plain": [
       "'\\nX_train, X_test, y_train, y_test = TimeSeriesSplit(\\n    X, Y, n_splits=3\\n)\\n'"
      ]
     },
     "execution_count": 18,
     "metadata": {},
     "output_type": "execute_result"
    }
   ],
   "source": [
    "from sklearn.model_selection import train_test_split\n",
    "from sklearn.model_selection import TimeSeriesSplit\n",
    "\n",
    "X_train, X_test, y_train, y_test = train_test_split(\n",
    "    X, Y, random_state=0, shuffle=False, test_size=0.1\n",
    ")\n",
    "\n",
    "\"\"\"\n",
    "X_train, X_test, y_train, y_test = TimeSeriesSplit(\n",
    "    X, Y, n_splits=3\n",
    ")\n",
    "\"\"\""
   ]
  },
  {
   "cell_type": "code",
   "execution_count": 19,
   "metadata": {},
   "outputs": [
    {
     "data": {
      "text/plain": [
       "((163, 11), (19, 11))"
      ]
     },
     "execution_count": 19,
     "metadata": {},
     "output_type": "execute_result"
    }
   ],
   "source": [
    "X_train.shape, X_test.shape"
   ]
  },
  {
   "cell_type": "markdown",
   "metadata": {},
   "source": [
    "# IOU scorer and Grid Search CV"
   ]
  },
  {
   "cell_type": "markdown",
   "metadata": {},
   "source": [
    "In this part, I implement the iou as a scorer in order to use it in Grid Search CV"
   ]
  },
  {
   "cell_type": "code",
   "execution_count": 20,
   "metadata": {},
   "outputs": [],
   "source": [
    "from iou import iou\n",
    "from sklearn.metrics import make_scorer"
   ]
  },
  {
   "cell_type": "code",
   "execution_count": 21,
   "metadata": {},
   "outputs": [],
   "source": [
    "def iou_metric(y, y_pred):\n",
    "    L = []\n",
    "    for i,y_hat in enumerate(y_pred):\n",
    "        L.append(iou(y_hat, y.iloc[i,:], 3))\n",
    "    return np.mean(L)\n",
    "\n",
    "iou_score = make_scorer(iou_metric, greater_is_better=True)"
   ]
  },
  {
   "cell_type": "code",
   "execution_count": 22,
   "metadata": {},
   "outputs": [],
   "source": [
    "from sklearn.model_selection import TimeSeriesSplit, GridSearchCV\n",
    "from sklearn.ensemble import RandomForestRegressor"
   ]
  },
  {
   "cell_type": "code",
   "execution_count": 23,
   "metadata": {},
   "outputs": [
    {
     "data": {
      "text/plain": [
       "GridSearchCV(cv=TimeSeriesSplit(gap=0, max_train_size=None, n_splits=10, test_size=None),\n",
       "             estimator=RandomForestRegressor(random_state=42),\n",
       "             param_grid={'max_depth': [10, 50, 100, 200, 500],\n",
       "                         'n_estimators': [1, 10, 50, 100, 200, 500]},\n",
       "             scoring=make_scorer(iou_metric))"
      ]
     },
     "execution_count": 23,
     "metadata": {},
     "output_type": "execute_result"
    }
   ],
   "source": [
    "model = RandomForestRegressor(random_state=42)\n",
    "param_grid = {'n_estimators': [1,10,50,100,200,500], 'max_depth': [10,50,100,200,500]}\n",
    "cv = TimeSeriesSplit(n_splits=10)\n",
    "\n",
    "grid = GridSearchCV(model, param_grid=param_grid, cv=cv, scoring=iou_score)\n",
    "grid.fit(X_train, y_train)"
   ]
  },
  {
   "cell_type": "code",
   "execution_count": 24,
   "metadata": {},
   "outputs": [
    {
     "data": {
      "text/plain": [
       "RandomForestRegressor(max_depth=10, n_estimators=1, random_state=42)"
      ]
     },
     "execution_count": 24,
     "metadata": {},
     "output_type": "execute_result"
    }
   ],
   "source": [
    "grid.best_estimator_\n"
   ]
  },
  {
   "cell_type": "code",
   "execution_count": 25,
   "metadata": {},
   "outputs": [
    {
     "data": {
      "text/plain": [
       "0.19352956589539574"
      ]
     },
     "execution_count": 25,
     "metadata": {},
     "output_type": "execute_result"
    }
   ],
   "source": [
    "grid.score(X_test, y_test)"
   ]
  },
  {
   "cell_type": "markdown",
   "metadata": {},
   "source": [
    "## Linear Regression"
   ]
  },
  {
   "cell_type": "code",
   "execution_count": 26,
   "metadata": {},
   "outputs": [
    {
     "data": {
      "text/plain": [
       "LinearRegression()"
      ]
     },
     "execution_count": 26,
     "metadata": {},
     "output_type": "execute_result"
    }
   ],
   "source": [
    "from sklearn.linear_model import LinearRegression\n",
    "\n",
    "LR = LinearRegression()\n",
    "LR.fit(X_train, y_train)"
   ]
  },
  {
   "cell_type": "code",
   "execution_count": 27,
   "metadata": {},
   "outputs": [],
   "source": [
    "#y_pred = LR.predict(X_train)\n",
    "y_pred = LR.predict(X_train)"
   ]
  },
  {
   "cell_type": "code",
   "execution_count": 28,
   "metadata": {
    "collapsed": true
   },
   "outputs": [
    {
     "name": "stdout",
     "output_type": "stream",
     "text": [
      "[[-3.18355643e+00  1.41080683e+00]\n",
      " [ 7.99977749e+00  1.67557787e+01]\n",
      " [ 2.44245920e+00  1.06673519e+01]\n",
      " [-7.84948948e+00  1.68362271e-01]\n",
      " [-1.60250593e+01 -8.26706668e+00]\n",
      " [-3.18355643e+00  1.41080683e+00]\n",
      " [-4.05440981e-01  7.17772200e+00]\n",
      " [ 4.74277753e+00  1.32143922e+01]\n",
      " [-2.64355709e+00  5.07681695e+00]\n",
      " [-7.50281526e+00  8.19571326e-01]\n",
      " [-1.41795516e+01 -6.77794389e+00]\n",
      " [ 2.33515442e+00  1.08837946e+01]\n",
      " [-6.35385424e-01  6.80309547e+00]\n",
      " [-4.78875667e+00  3.48905946e+00]\n",
      " [-3.85066058e+00  4.91278348e+00]\n",
      " [-1.52051692e+01 -7.77853000e+00]\n",
      " [-1.61284849e+01 -8.59474229e+00]\n",
      " [-2.19522942e+01 -1.62421864e+01]\n",
      " [-2.13021522e+01 -1.41426218e+01]\n",
      " [-2.62260822e+01 -1.99434820e+01]\n",
      " [-3.18355643e+00  1.41080683e+00]\n",
      " [ 6.94494547e-01  7.57537119e+00]\n",
      " [-5.24606675e-01  6.45545594e+00]\n",
      " [-7.79128861e+00 -4.97975247e-03]\n",
      " [-7.89325504e+00  2.52077261e-01]\n",
      " [-2.65595775e-01  6.37741290e+00]\n",
      " [-4.61102307e+00  3.63815410e+00]\n",
      " [-9.24032279e+00 -3.21915865e+00]\n",
      " [ 2.44996744e-01  7.91011359e+00]\n",
      " [-4.73801467e+00  2.59425071e+00]\n",
      " [-4.22990317e-01  5.71334804e+00]\n",
      " [ 2.05761868e+01  2.94854759e+01]\n",
      " [ 9.16044493e-01  9.01088443e+00]\n",
      " [-3.71172444e+00  4.23068631e+00]\n",
      " [-1.14459288e+01 -5.19375003e+00]\n",
      " [-6.67503114e+00  7.09206116e-01]\n",
      " [-1.51958991e+01 -7.98747610e+00]\n",
      " [-2.29371497e+00  3.82293722e+00]\n",
      " [-4.25684522e-01  6.88358039e+00]\n",
      " [-5.88557747e+00  2.33208783e+00]\n",
      " [-3.18355643e+00  1.41080683e+00]\n",
      " [ 1.83569755e+00  1.11374642e+01]\n",
      " [-4.53540862e+00  3.09011405e+00]\n",
      " [ 3.26939077e+00  1.10667963e+01]\n",
      " [ 4.19834593e+00  1.26223119e+01]\n",
      " [-4.15082098e+00  4.81297218e+00]\n",
      " [-1.34285962e+01 -5.95344140e+00]\n",
      " [-3.18355643e+00  1.41080683e+00]\n",
      " [-2.67295089e+00  3.82878566e+00]\n",
      " [-1.31269540e+01 -6.67628440e+00]\n",
      " [-2.23648637e+01 -1.80284743e+01]\n",
      " [-1.96651349e+01 -1.48256389e+01]\n",
      " [-3.19924337e+01 -2.73710639e+01]\n",
      " [-4.54571679e+01 -4.22122349e+01]\n",
      " [-3.18355643e+00  1.41080683e+00]\n",
      " [ 8.56622996e+00  1.71008166e+01]\n",
      " [-6.25201468e+00  1.19129853e+00]\n",
      " [-3.18355643e+00  1.41080683e+00]\n",
      " [-1.69946715e+00  4.70097658e+00]\n",
      " [ 5.15536194e-01  8.78503032e+00]\n",
      " [-3.97221476e+00  3.46696320e+00]\n",
      " [-4.62556235e+00  2.77782752e+00]\n",
      " [-3.18355643e+00  1.41080683e+00]\n",
      " [ 8.52684514e-01  9.02351961e+00]\n",
      " [ 5.05725443e+00  1.40471368e+01]\n",
      " [-6.92164139e-01  8.54955883e+00]\n",
      " [-1.17026966e+01 -4.34484358e+00]\n",
      " [ 8.74656900e+00  1.69611692e+01]\n",
      " [-3.18355643e+00  1.41080683e+00]\n",
      " [-1.85627620e+00  6.00440808e+00]\n",
      " [-6.41151132e-02  6.98181409e+00]\n",
      " [-4.02207534e+00  4.98271512e+00]\n",
      " [-1.96700329e+01 -1.33994770e+01]\n",
      " [-1.14995700e+01 -3.95473093e+00]\n",
      " [ 4.16211598e+00  1.31029347e+01]\n",
      " [ 4.62654695e+00  1.39362226e+01]\n",
      " [-5.04785051e+00  1.54100470e+00]\n",
      " [-4.90173949e+00  2.94162684e+00]\n",
      " [-1.65564960e+01 -9.45729493e+00]\n",
      " [-1.30848468e+01 -5.96002624e+00]\n",
      " [-1.96374628e+01 -1.34858424e+01]\n",
      " [-2.54233945e+01 -1.76922865e+01]\n",
      " [ 3.48461539e+00  1.06339601e+01]\n",
      " [ 1.70780081e-01  8.81989220e+00]\n",
      " [-8.22213114e+00 -7.78861981e-01]\n",
      " [-3.33946550e+00  3.31570595e+00]\n",
      " [-3.46691212e+00  4.93310175e+00]\n",
      " [-4.28241304e+00  3.69874543e+00]\n",
      " [-1.08431834e+01 -3.25955661e+00]\n",
      " [-1.29627310e+01 -6.03912460e+00]\n",
      " [-3.18355643e+00  1.41080683e+00]\n",
      " [-1.12708924e+00  6.92265681e+00]\n",
      " [-8.28571105e+00 -9.14716843e-01]\n",
      " [-8.14748097e+00  6.94564942e-01]\n",
      " [-1.26052347e+01 -4.77774650e+00]\n",
      " [-3.18355643e+00  1.41080683e+00]\n",
      " [-6.09305769e+00  9.24489556e-01]\n",
      " [-1.22579856e+01 -7.33009021e+00]\n",
      " [-2.75061879e+00  2.71746930e+00]\n",
      " [-3.21419456e+00  3.40179682e+00]\n",
      " [-8.11363715e+00 -9.02205519e-01]\n",
      " [-1.76529525e+01 -1.08905412e+01]\n",
      " [-1.14973742e+01 -5.66805808e+00]\n",
      " [-2.31933324e+01 -1.72442419e+01]\n",
      " [ 7.86604028e+00  1.66132546e+01]\n",
      " [ 6.20211166e+00  1.35361877e+01]\n",
      " [ 3.55387570e+00  1.10558648e+01]\n",
      " [-2.07039999e+00  6.09555527e+00]\n",
      " [-3.18355643e+00  1.41080683e+00]\n",
      " [ 1.64740024e+01  2.61631198e+01]\n",
      " [ 2.36323842e+00  1.01966418e+01]\n",
      " [-3.18355643e+00  1.41080683e+00]\n",
      " [ 5.85630608e-01  6.32598138e+00]\n",
      " [-3.12456685e+00  4.75814178e+00]\n",
      " [-9.74707471e+00 -2.54645822e+00]\n",
      " [-1.38712826e+00  5.98781039e+00]\n",
      " [-3.26022242e+00  2.86813127e+00]\n",
      " [-1.51587591e+01 -9.18721565e+00]\n",
      " [-7.99887275e+00 -1.49551670e+00]\n",
      " [-1.24603033e+01 -6.49273711e+00]\n",
      " [-1.59750561e+01 -9.97551165e+00]\n",
      " [-8.89847543e-01  7.31199417e+00]\n",
      " [ 1.18465298e+00  8.28725330e+00]\n",
      " [-3.18355643e+00  1.41080683e+00]\n",
      " [-2.00424929e+00  4.14773837e+00]\n",
      " [ 5.71010884e+00  1.40274719e+01]\n",
      " [ 1.31416944e+00  9.20200257e+00]\n",
      " [ 3.30172390e+00  1.14205506e+01]\n",
      " [ 1.00985037e+01  1.87373178e+01]\n",
      " [ 7.87674680e+00  1.51912405e+01]\n",
      " [-6.77429124e-01  6.18855368e+00]\n",
      " [ 1.74679765e+00  8.66645894e+00]\n",
      " [ 4.50473930e+00  1.17165478e+01]\n",
      " [ 5.82390489e+00  1.44396837e+01]\n",
      " [-5.10887802e-01  7.01110513e+00]\n",
      " [ 2.50071996e+00  1.14048469e+01]\n",
      " [ 2.54213901e+00  1.04765332e+01]\n",
      " [-3.06466057e+00  5.91277607e+00]\n",
      " [-1.34016801e+01 -6.23238081e+00]\n",
      " [-7.27628900e+00 -4.01843557e-02]\n",
      " [-3.18355643e+00  1.41080683e+00]\n",
      " [ 1.59203810e+00  1.03838873e+01]\n",
      " [-7.38220181e+00 -5.12175437e-01]\n",
      " [-1.45062203e+01 -8.31300188e+00]\n",
      " [-2.31612190e+01 -1.69795763e+01]\n",
      " [-3.18355643e+00  1.41080683e+00]\n",
      " [ 4.22959259e+00  1.18274207e+01]\n",
      " [-6.90453989e+00  8.40296975e-01]\n",
      " [-1.36105602e+01 -8.39124730e+00]\n",
      " [-3.18355643e+00  1.41080683e+00]\n",
      " [-4.98236997e+00  2.20373656e+00]\n",
      " [-9.14159309e+00 -2.06475895e+00]\n",
      " [-1.34992911e+01 -5.84424470e+00]\n",
      " [-1.37533890e+01 -5.40982507e+00]\n",
      " [-2.26038917e+01 -1.60675823e+01]\n",
      " [ 4.77541972e+00  1.16506597e+01]\n",
      " [ 1.94313101e+00  9.18817243e+00]\n",
      " [-1.00804289e+01 -3.00397826e+00]\n",
      " [-1.34012422e+01 -6.00501495e+00]\n",
      " [-1.05110758e+01 -3.44658310e+00]\n",
      " [-4.65616085e+00  3.94207507e+00]\n",
      " [-3.39448466e+00  5.18913657e+00]\n",
      " [-1.27770184e+01 -4.95077278e+00]]\n"
     ]
    }
   ],
   "source": [
    "print(y_pred)"
   ]
  },
  {
   "cell_type": "code",
   "execution_count": 29,
   "metadata": {},
   "outputs": [],
   "source": [
    "\n",
    "L = []\n",
    "for i, y in enumerate(y_pred):\n",
    "    \n",
    "    L.append(iou(y, y_train.iloc[i,:],3))\n",
    "    #L.append(iou(y, y_test.iloc[i,:],3))"
   ]
  },
  {
   "cell_type": "code",
   "execution_count": 30,
   "metadata": {},
   "outputs": [
    {
     "data": {
      "text/plain": [
       "0.07461784645528927"
      ]
     },
     "execution_count": 30,
     "metadata": {},
     "output_type": "execute_result"
    }
   ],
   "source": [
    "sum(L)/len(L)"
   ]
  },
  {
   "cell_type": "code",
   "execution_count": 31,
   "metadata": {},
   "outputs": [],
   "source": [
    "def score(X,Y,model,epsilon=3):\n",
    "    \"\"\"\n",
    "    @input :\n",
    "     - X :input data\n",
    "     - Y :true output date\n",
    "     - model considered for the prediction\n",
    "     - epsilon : the radius considered in the iou metric\n",
    "     \n",
    "    @output : the iou associated to the predictions\n",
    "    \"\"\"\n",
    "    y_pred = model.predict(X)\n",
    "    L = []\n",
    "    for i,y in enumerate(y_pred):\n",
    "        L.append(iou(y, Y.iloc[i,:],epsilon))\n",
    "    return np.mean(L)"
   ]
  },
  {
   "cell_type": "code",
   "execution_count": 32,
   "metadata": {},
   "outputs": [],
   "source": [
    "def result(X_train, y_train, X_test, y_test, model_bf, epsilon=3):\n",
    "    model = model_bf.fit(X_train, y_train)\n",
    "    train_score = score(X_train, y_train, model, epsilon)\n",
    "    test_score = score(X_test, y_test, model, epsilon)\n",
    "    \n",
    "    return {'training set':train_score, 'test set': test_score}"
   ]
  },
  {
   "cell_type": "markdown",
   "metadata": {},
   "source": [
    "# Lasso"
   ]
  },
  {
   "cell_type": "code",
   "execution_count": 33,
   "metadata": {},
   "outputs": [],
   "source": [
    "from sklearn.linear_model import Lasso"
   ]
  },
  {
   "cell_type": "code",
   "execution_count": 34,
   "metadata": {},
   "outputs": [
    {
     "data": {
      "text/plain": [
       "0.10805511200806976"
      ]
     },
     "execution_count": 34,
     "metadata": {},
     "output_type": "execute_result"
    }
   ],
   "source": [
    "model = Lasso(alpha=5)\n",
    "model.fit(X_train, y_train)\n",
    "y_pred = model.predict(X_train)\n",
    "L = []\n",
    "for i, y in enumerate(y_pred):\n",
    "    \n",
    "    L.append(iou(y, y_train.iloc[i,:],3))\n",
    "sum(L)/len(L)"
   ]
  },
  {
   "cell_type": "code",
   "execution_count": 35,
   "metadata": {},
   "outputs": [
    {
     "data": {
      "text/plain": [
       "array([[ 0.        ,  0.        ,  0.30965119,  0.12909268,  0.        ,\n",
       "         0.        , -0.        ,  0.        ,  0.        , -0.        ,\n",
       "        -1.53746756],\n",
       "       [-0.        ,  0.        ,  0.41647122,  0.34918633,  0.        ,\n",
       "         0.04889598, -0.        ,  0.        ,  0.        , -0.        ,\n",
       "        -1.64060438]])"
      ]
     },
     "execution_count": 35,
     "metadata": {},
     "output_type": "execute_result"
    }
   ],
   "source": [
    "model.coef_"
   ]
  },
  {
   "cell_type": "code",
   "execution_count": 36,
   "metadata": {},
   "outputs": [
    {
     "data": {
      "text/plain": [
       "<StemContainer object of 3 artists>"
      ]
     },
     "execution_count": 36,
     "metadata": {},
     "output_type": "execute_result"
    },
    {
     "data": {
      "image/png": "[encoded data removed]",
      "text/plain": [
       "<Figure size 1440x360 with 1 Axes>"
      ]
     },
     "metadata": {
      "needs_background": "light"
     },
     "output_type": "display_data"
    }
   ],
   "source": [
    "plt.figure(figsize=(20,5))\n",
    "plt.stem(var_names_input, model.coef_[0])"
   ]
  },
  {
   "cell_type": "markdown",
   "metadata": {},
   "source": [
    "## MLP"
   ]
  },
  {
   "cell_type": "code",
   "execution_count": 37,
   "metadata": {},
   "outputs": [
    {
     "name": "stderr",
     "output_type": "stream",
     "text": [
      "C:\\ProgramData\\Anaconda3\\lib\\site-packages\\sklearn\\neural_network\\_multilayer_perceptron.py:614: ConvergenceWarning: Stochastic Optimizer: Maximum iterations (200) reached and the optimization hasn't converged yet.\n",
      "  warnings.warn(\n"
     ]
    },
    {
     "data": {
      "text/plain": [
       "MLPRegressor(hidden_layer_sizes=(1000, 500, 10))"
      ]
     },
     "execution_count": 37,
     "metadata": {},
     "output_type": "execute_result"
    }
   ],
   "source": [
    "from sklearn.neural_network import MLPRegressor\n",
    "\n",
    "MLP_model = MLPRegressor(hidden_layer_sizes=(1000,500,10))\n",
    "MLP_model.fit(X_train, y_train)"
   ]
  },
  {
   "cell_type": "code",
   "execution_count": 38,
   "metadata": {},
   "outputs": [],
   "source": [
    "mlp_pred = MLP_model.predict(X_test)"
   ]
  },
  {
   "cell_type": "code",
   "execution_count": 39,
   "metadata": {},
   "outputs": [],
   "source": [
    "L = []\n",
    "for i, y in enumerate(mlp_pred):\n",
    "    \n",
    "    L.append(iou(y, y_test.iloc[i,:],2))"
   ]
  },
  {
   "cell_type": "code",
   "execution_count": 40,
   "metadata": {},
   "outputs": [
    {
     "data": {
      "text/plain": [
       "0.10535903499010031"
      ]
     },
     "execution_count": 40,
     "metadata": {},
     "output_type": "execute_result"
    }
   ],
   "source": [
    "sum(L)/len(L)"
   ]
  },
  {
   "cell_type": "markdown",
   "metadata": {},
   "source": [
    "# Random Forest"
   ]
  },
  {
   "cell_type": "code",
   "execution_count": 41,
   "metadata": {},
   "outputs": [],
   "source": [
    "from sklearn.ensemble import RandomForestRegressor"
   ]
  },
  {
   "cell_type": "code",
   "execution_count": null,
   "metadata": {
    "scrolled": false
   },
   "outputs": [],
   "source": [
    "\"\"\"\n",
    "rf = RandomForestRegressor(random_state=42, n_estimators=1, max_depth=50)\n",
    "rf.fit(X_train, y_train)\n",
    "\"\"\""
   ]
  },
  {
   "cell_type": "code",
   "execution_count": null,
   "metadata": {},
   "outputs": [],
   "source": [
    "#score(X_train, y_train, rf, epsilon=3)"
   ]
  },
  {
   "cell_type": "code",
   "execution_count": null,
   "metadata": {},
   "outputs": [],
   "source": [
    "\"score(X_test, y_test, rf, epsilon=3)"
   ]
  },
  {
   "cell_type": "code",
   "execution_count": 46,
   "metadata": {},
   "outputs": [],
   "source": [
    "rf1 = RandomForestRegressor(random_state=42, n_estimators=1, max_depth=50)"
   ]
  },
  {
   "cell_type": "code",
   "execution_count": 47,
   "metadata": {},
   "outputs": [
    {
     "data": {
      "text/plain": [
       "{'training set': 0.6845272121026753, 'test set': 0.2687349813214965}"
      ]
     },
     "execution_count": 47,
     "metadata": {},
     "output_type": "execute_result"
    }
   ],
   "source": [
    "result(X_train, y_train, X_test, y_test, rf1, epsilon=3)"
   ]
  },
  {
   "cell_type": "markdown",
   "metadata": {},
   "source": [
    "# Gradient boosting"
   ]
  },
  {
   "cell_type": "code",
   "execution_count": 48,
   "metadata": {},
   "outputs": [],
   "source": [
    "from sklearn.multioutput import MultiOutputRegressor\n",
    "from sklearn.ensemble import GradientBoostingRegressor"
   ]
  },
  {
   "cell_type": "code",
   "execution_count": 49,
   "metadata": {},
   "outputs": [],
   "source": [
    "gb = MultiOutputRegressor(GradientBoostingRegressor(random_state=0, learning_rate=0.8, n_estimators=200))"
   ]
  },
  {
   "cell_type": "code",
   "execution_count": 50,
   "metadata": {},
   "outputs": [
    {
     "data": {
      "text/plain": [
       "{'training set': 0.9405002757452975, 'test set': 0.21043765574043116}"
      ]
     },
     "execution_count": 50,
     "metadata": {},
     "output_type": "execute_result"
    }
   ],
   "source": [
    "result(X_train, y_train, X_test, y_test, gb, epsilon=3)"
   ]
  },
  {
   "cell_type": "markdown",
   "metadata": {},
   "source": [
    "# SVR"
   ]
  },
  {
   "cell_type": "code",
   "execution_count": 51,
   "metadata": {},
   "outputs": [],
   "source": [
    "from sklearn.svm import SVR"
   ]
  },
  {
   "cell_type": "code",
   "execution_count": 52,
   "metadata": {},
   "outputs": [],
   "source": [
    "svr_rbf = MultiOutputRegressor(SVR(kernel='rbf', C=3.0))"
   ]
  },
  {
   "cell_type": "code",
   "execution_count": 53,
   "metadata": {},
   "outputs": [
    {
     "data": {
      "text/plain": [
       "{'training set': 0.3241982845787806, 'test set': 0.25456100564074974}"
      ]
     },
     "execution_count": 53,
     "metadata": {},
     "output_type": "execute_result"
    }
   ],
   "source": [
    "result(X_train, y_train, X_test, y_test, svr_rbf, epsilon=3)"
   ]
  },
  {
   "cell_type": "code",
   "execution_count": 54,
   "metadata": {},
   "outputs": [],
   "source": [
    "svr_poly = MultiOutputRegressor(SVR(kernel='poly', degree=2,C=0.9))"
   ]
  },
  {
   "cell_type": "code",
   "execution_count": 55,
   "metadata": {},
   "outputs": [
    {
     "data": {
      "text/plain": [
       "{'training set': 0.3012905972098171, 'test set': 0.2719540035698541}"
      ]
     },
     "execution_count": 55,
     "metadata": {},
     "output_type": "execute_result"
    }
   ],
   "source": [
    "result(X_train, y_train, X_test, y_test, svr_poly, epsilon=3)"
   ]
  },
  {
   "cell_type": "code",
   "execution_count": 57,
   "metadata": {},
   "outputs": [
    {
     "data": {
      "text/html": [
       "<div>\n",
       "<style scoped>\n",
       "    .dataframe tbody tr th:only-of-type {\n",
       "        vertical-align: middle;\n",
       "    }\n",
       "\n",
       "    .dataframe tbody tr th {\n",
       "        vertical-align: top;\n",
       "    }\n",
       "\n",
       "    .dataframe thead th {\n",
       "        text-align: right;\n",
       "    }\n",
       "</style>\n",
       "<table border=\"1\" class=\"dataframe\">\n",
       "  <thead>\n",
       "    <tr style=\"text-align: right;\">\n",
       "      <th></th>\n",
       "      <th>Iou train set</th>\n",
       "      <th>Iou test set</th>\n",
       "    </tr>\n",
       "  </thead>\n",
       "  <tbody>\n",
       "    <tr>\n",
       "      <th>Random Forest</th>\n",
       "      <td>0.68</td>\n",
       "      <td>0.27</td>\n",
       "    </tr>\n",
       "    <tr>\n",
       "      <th>Gradient Boosting</th>\n",
       "      <td>0.94</td>\n",
       "      <td>0.21</td>\n",
       "    </tr>\n",
       "    <tr>\n",
       "      <th>SVR_rbf</th>\n",
       "      <td>0.32</td>\n",
       "      <td>0.25</td>\n",
       "    </tr>\n",
       "    <tr>\n",
       "      <th>SVR_poly</th>\n",
       "      <td>0.30</td>\n",
       "      <td>0.27</td>\n",
       "    </tr>\n",
       "  </tbody>\n",
       "</table>\n",
       "</div>"
      ],
      "text/plain": [
       "                   Iou train set  Iou test set\n",
       "Random Forest               0.68          0.27\n",
       "Gradient Boosting           0.94          0.21\n",
       "SVR_rbf                     0.32          0.25\n",
       "SVR_poly                    0.30          0.27"
      ]
     },
     "metadata": {},
     "output_type": "display_data"
    }
   ],
   "source": [
    "dic_linear_model = {}\n",
    "Models = [\"Random Forest\", \"Gradient Boosting\", \"SVR_rbf\", \"SVR_poly\"]\n",
    "dic_linear_model[\"Iou train set\"] = [0.68, 0.94, 0.32, 0.30]\n",
    "dic_linear_model[\"Iou test set\"] = [0.27, 0.21, 0.25, 0.27]\n",
    "perf_linear_model_dataframe = pd.DataFrame(dic_linear_model,index = Models)\n",
    "display(perf_linear_model_dataframe)"
   ]
  },
  {
   "cell_type": "markdown",
   "metadata": {},
   "source": [
    "### Different configuration"
   ]
  },
  {
   "cell_type": "code",
   "execution_count": null,
   "metadata": {},
   "outputs": [],
   "source": [
    "var_names_input = ['posx_djoko', 'posy_djoko', 'posx_opponent',\n",
    "       'posy_opponent', 'targetx_ball', 'targety_ball',\n",
    "       'set_djoko', 'set_opponent', 'games_djoko', 'games_opponent',\n",
    "       'duration']\n",
    "\n",
    "var_names_output = ['targetx_ball', 'targety_ball']"
   ]
  },
  {
   "cell_type": "code",
   "execution_count": null,
   "metadata": {},
   "outputs": [],
   "source": [
    "Y = data[data['play_djoko']==1]\n",
    "var_nan = [\"posx_djoko\",\"posy_djoko\",\"posx_opponent\",\"posy_opponent\"]\n",
    "Y.loc[:, var_nan] = Y.loc[:, var_nan].fillna(-100)"
   ]
  },
  {
   "cell_type": "code",
   "execution_count": null,
   "metadata": {},
   "outputs": [],
   "source": [
    "relevant_var = [\"posx_djoko\",\"posy_djoko\",\"posx_opponent\",\"posy_opponent\"]\n",
    "relevant_Y = Y [relevant_var] \n",
    "relevant_Y = relevant_Y.set_index(X.index)"
   ]
  },
  {
   "cell_type": "code",
   "execution_count": null,
   "metadata": {},
   "outputs": [],
   "source": [
    "X = pd.concat([X, relevant_Y], axis=1)"
   ]
  },
  {
   "cell_type": "code",
   "execution_count": null,
   "metadata": {},
   "outputs": [],
   "source": [
    "Y = Y[var_names_output]"
   ]
  },
  {
   "cell_type": "code",
   "execution_count": null,
   "metadata": {},
   "outputs": [],
   "source": [
    "X"
   ]
  },
  {
   "cell_type": "code",
   "execution_count": null,
   "metadata": {},
   "outputs": [],
   "source": [
    "X_train, X_test, y_train, y_test = train_test_split(\n",
    "    X, Y, random_state=0\n",
    ")"
   ]
  },
  {
   "cell_type": "code",
   "execution_count": null,
   "metadata": {},
   "outputs": [],
   "source": [
    "LR = LinearRegression()\n",
    "LR.fit(X_train, y_train)"
   ]
  },
  {
   "cell_type": "code",
   "execution_count": null,
   "metadata": {},
   "outputs": [],
   "source": [
    "y_pred = LR.predict(X_train)"
   ]
  },
  {
   "cell_type": "code",
   "execution_count": null,
   "metadata": {},
   "outputs": [],
   "source": [
    "for i, y in enumerate(mlp_pred):\n",
    "    \n",
    "    L.append(iou(y, y_test.iloc[i,:],2))"
   ]
  },
  {
   "cell_type": "code",
   "execution_count": null,
   "metadata": {},
   "outputs": [],
   "source": [
    "sum(L)/len(L)"
   ]
  },
  {
   "cell_type": "code",
   "execution_count": null,
   "metadata": {},
   "outputs": [],
   "source": []
  }
 ],
 "metadata": {
  "interpreter": {
   "hash": "1cd6ffca5e521af8bbdd956d6a5cf6cc8723ce1db8022e82c08350eeea14129b"
  },
  "kernelspec": {
   "display_name": "Python 3 (ipykernel)",
   "language": "python",
   "name": "python3"
  },
  "language_info": {
   "codemirror_mode": {
    "name": "ipython",
    "version": 3
   },
   "file_extension": ".py",
   "mimetype": "text/x-python",
   "name": "python",
   "nbconvert_exporter": "python",
   "pygments_lexer": "ipython3",
   "version": "3.9.7"
  }
 },
 "nbformat": 4,
 "nbformat_minor": 2
}
